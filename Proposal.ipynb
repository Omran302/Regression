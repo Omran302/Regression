{
 "cells": [
  {
   "cell_type": "markdown",
   "id": "3d975377",
   "metadata": {},
   "source": [
    "# Linear Regression on FIFA-22 Players Overall Rating"
   ]
  },
  {
   "cell_type": "markdown",
   "id": "dd5e5c64",
   "metadata": {},
   "source": [
    "### Project Description"
   ]
  },
  {
   "cell_type": "markdown",
   "id": "e2d72a88",
   "metadata": {},
   "source": [
    "Our goal for this Linear Regression Model is to predict the overall players rating for football player in the season, we will take the overall player rating as our dependent value and the overall status and more as our independent value"
   ]
  },
  {
   "cell_type": "markdown",
   "id": "7d5768e2",
   "metadata": {},
   "source": [
    "### Data Description"
   ]
  },
  {
   "cell_type": "markdown",
   "id": "47e71bfc",
   "metadata": {},
   "source": [
    "We plan to get our data by web scraping the https://www.fifaindex.com/ website we will have around 18,000 players (data points).\n",
    "To mention a few of the features, each players has:\n",
    "- Name\n",
    "\n",
    "- Age\n",
    "\n",
    "- Preffered Foot\n",
    "\n",
    "- Phyiscality \n",
    "\n",
    "- Shooting\n",
    "\n",
    "- Ball Control\n",
    "\n",
    "And many more features.\n",
    "\n",
    "###### Modeling\n",
    "\n",
    "We will predict the overall rating of new players, over and under performing players.\n"
   ]
  },
  {
   "cell_type": "markdown",
   "id": "87edfd57",
   "metadata": {},
   "source": [
    "### Tools"
   ]
  },
  {
   "cell_type": "markdown",
   "id": "19ab0381",
   "metadata": {},
   "source": [
    "The tools used in this projet are:\n",
    "- Selenium for Web Scraping.\n",
    "\n",
    "- Google Chrome for Web Scraping\n",
    "\n",
    "- Pandas, Numpy for data cleaning\n",
    "\n",
    "- Seaborn for Visualization.\n",
    "\n",
    "- Sklearn to modeling"
   ]
  },
  {
   "cell_type": "markdown",
   "id": "9873d1e9",
   "metadata": {},
   "source": [
    "### Minimum Viable Product (MVP)"
   ]
  },
  {
   "cell_type": "markdown",
   "id": "e97aefd5",
   "metadata": {},
   "source": [
    "The goal of this project is to predict the overall rating of FIFA 22 players in various game modes. To start exploring this goal, we used linear regression with Value feature since it has the highest correlation with the overall rating.\n",
    "![Values vs. Overall Rating](charts/linear.png)\n",
    "This result suggests that value may have a significant positive impact on a overall rating. However, the magnitude of the model's residuals makes it clear that value is not the only important factor in determining the overall rating of a player."
   ]
  }
 ],
 "metadata": {
  "kernelspec": {
   "display_name": "Python 3",
   "language": "python",
   "name": "python3"
  },
  "language_info": {
   "codemirror_mode": {
    "name": "ipython",
    "version": 3
   },
   "file_extension": ".py",
   "mimetype": "text/x-python",
   "name": "python",
   "nbconvert_exporter": "python",
   "pygments_lexer": "ipython3",
   "version": "3.8.8"
  }
 },
 "nbformat": 4,
 "nbformat_minor": 5
}
