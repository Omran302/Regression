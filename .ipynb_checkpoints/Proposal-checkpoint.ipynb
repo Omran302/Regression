{
 "cells": [
  {
   "cell_type": "markdown",
   "id": "60c70b5c",
   "metadata": {},
   "source": [
    "# Linear Regression on FIFA-22Players Overall Rating"
   ]
  },
  {
   "cell_type": "markdown",
   "id": "40e3e75b",
   "metadata": {},
   "source": [
    "### Project Description"
   ]
  },
  {
   "cell_type": "markdown",
   "id": "b1cd23b6",
   "metadata": {},
   "source": [
    "Our goal for this Linear Regression Model is to predict the overall players rating for football player in the season, we will take the overall player rating as our dependent value and the overall status and more as our independent value"
   ]
  },
  {
   "cell_type": "markdown",
   "id": "82e19814",
   "metadata": {},
   "source": [
    "### Data Description"
   ]
  },
  {
   "cell_type": "markdown",
   "id": "a781674e",
   "metadata": {},
   "source": [
    "We plan to get our data by web scrapping the https://www.fifaindex.com/ website we will have around 18,000 players (data points).\n",
    "To mention a few of the features, each players has:\n",
    "- Name\n",
    "\n",
    "- Age\n",
    "\n",
    "- Preffered Foot\n",
    "\n",
    "- Phyiscality \n",
    "\n",
    "- Shooting\n",
    "\n",
    "- Ball Control\n",
    "\n",
    "And many more features."
   ]
  },
  {
   "cell_type": "markdown",
   "id": "e1beedae",
   "metadata": {},
   "source": [
    "### Tools"
   ]
  },
  {
   "cell_type": "markdown",
   "id": "51a1e08d",
   "metadata": {},
   "source": [
    "The tools used in this projet are:\n",
    "- Selenium for Web Scrapping.\n",
    "\n",
    "- Google Chrome for Web Scrapping\n",
    "\n",
    "- Pandas, Numpy for data cleaning\n",
    "\n",
    "- Seaborn for Visualization.\n",
    "\n",
    "- Sklearn to modeling"
   ]
  }
 ],
 "metadata": {
  "kernelspec": {
   "display_name": "Python 3",
   "language": "python",
   "name": "python3"
  },
  "language_info": {
   "codemirror_mode": {
    "name": "ipython",
    "version": 3
   },
   "file_extension": ".py",
   "mimetype": "text/x-python",
   "name": "python",
   "nbconvert_exporter": "python",
   "pygments_lexer": "ipython3",
   "version": "3.8.8"
  }
 },
 "nbformat": 4,
 "nbformat_minor": 5
}
