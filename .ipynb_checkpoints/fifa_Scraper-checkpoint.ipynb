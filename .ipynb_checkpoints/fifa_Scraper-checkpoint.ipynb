{
 "cells": [
  {
   "cell_type": "markdown",
   "metadata": {},
   "source": [
    "mport all libraries"
   ]
  },
  {
   "cell_type": "code",
   "execution_count": 1,
   "metadata": {},
   "outputs": [],
   "source": [
    "from bs4 import BeautifulSoup\n",
    "import requests\n",
    "import time, os\n",
    "import pandas as pd\n",
    "import numpy as np\n",
    "import seaborn as sns\n",
    "import matplotlib as plt\n",
    "#%matplotlib inline\n",
    "from selenium import webdriver\n",
    "from selenium.webdriver.common.keys import Keys\n",
    "import re\n",
    "from datetime import datetime\n",
    "start=datetime.now()"
   ]
  },
  {
   "cell_type": "code",
   "execution_count": 2,
   "metadata": {},
   "outputs": [],
   "source": [
    "def get_driver(url):\n",
    "    from selenium.webdriver.common.action_chains import ActionChains\n",
    "    chromedriver = \"C:\\Program Files (x86)\\Google\\Chrome\\Application\\chromedriver\" # path to the chromedriver executable\n",
    "    os.environ[\"webdriver.chrome.driver\"] = chromedriver\n",
    "    # 1- Go to \"fifaindex website\"\n",
    "    page = requests.get(url).text\n",
    "    driver = webdriver.Chrome(chromedriver)\n",
    "    driver.get(url)\n",
    "    driver.implicitly_wait(4)\n",
    "    driver.maximize_window()\n",
    "    return driver"
   ]
  },
  {
   "cell_type": "code",
   "execution_count": 4,
   "metadata": {},
   "outputs": [],
   "source": [
    "def get_name_url(driver):\n",
    "    # We iterate the whole table of players in the page\n",
    "    # get table size\n",
    "    #selenium player list to be converted to text by for loop\n",
    "    player_list_sel =   driver.find_elements_by_class_name(\"link-player\")\n",
    "    player_list = [0] * (len(player_list_sel))\n",
    "    url_list_sel = driver.find_elements_by_class_name(\"link-player\")\n",
    "    url_list = [0] * (len(url_list_sel))\n",
    "    i=0\n",
    "    for name in player_list_sel:\n",
    "            player_list[i] = str((name.text))\n",
    "            url_list[i] = (name.get_attribute(\"href\"))\n",
    "            i+=1\n",
    "    player_list = list(filter(None, player_list))\n",
    "    #remove duplicates\n",
    "    url_list = list(dict.fromkeys(url_list))\n",
    "    #print(player_list)\n",
    "    #print(url_list)\n",
    "    return player_list,url_list"
   ]
  },
  {
   "cell_type": "markdown",
   "metadata": {},
   "source": [
    "TODO: find a better way to do this lol<br>\n",
    "lean empty rows"
   ]
  },
  {
   "cell_type": "code",
   "execution_count": 5,
   "metadata": {},
   "outputs": [],
   "source": [
    "def get_players_in_page(driver):\n",
    "    start=datetime.now()\n",
    "    page_players = pd.DataFrame()\n",
    "    current_players = []\n",
    "    #Change to 600 to get all players which = 18k\n",
    "    no_of_pages = 110\n",
    "    #iterate over 34 pages\n",
    "    for j in range(50,no_of_pages):\n",
    "        page_url = \"https://www.fifaindex.com/players/?page=\"+str(j)\n",
    "        driver.get(page_url)\n",
    "        #get players table as two lists of players names and url_list\n",
    "        names, urls = get_name_url(driver)\n",
    "        for i in range(len(urls)):\n",
    "            # click player and go to player page\n",
    "            # # FIXME:\n",
    "            #click_player(urls[i],driver,action)\n",
    "            # get player info\n",
    "            player = get_player_info(names[i],urls[i],driver)\n",
    "            current_players.append(player)\n",
    "            #return to page to get next players\n",
    "            # # FIXME: with click_player\n",
    "            #driver.back()\n",
    "            print(\"Player \",names[i],\" is Done!\")\n",
    "            i+=1\n",
    "        page_players = pd.DataFrame(current_players)\n",
    "        print(\"Page \",j,\" is Done!\")\n",
    "        #update driver to grab next page?\n",
    "        j+=1\n",
    "    print (datetime.now()-start)\n",
    "    return page_players\n",
    "\n",
    "            #call get player info and pass the name and url\n",
    "\n",
    "    #FIXME\n",
    "    #def click_player(player_url,page_driver,action):\n",
    "    #    actions.click(player_url)\n",
    "    #    actions.perform()"
   ]
  },
  {
   "cell_type": "code",
   "execution_count": 6,
   "metadata": {},
   "outputs": [],
   "source": [
    "def get_player_info(player_name,player_url,driver):\n",
    "    driver.get(player_url)\n",
    "    info =  driver.find_elements_by_xpath('/html/body/main/div/div/div[2]/div[2]/div[2]/div/div/p')\n",
    "    player_rating = driver.find_element_by_xpath(\"/html/body/main/div/div/div[2]/div[2]/div[2]/div/h5/span/span[1]\").text\n",
    "    i=1\n",
    "    player_dict = {}\n",
    "    player_dict[\"Name\"] = player_name\n",
    "    player_dict[\"Overall-Rating\"] = player_rating\n",
    "    for inf in info:\n",
    "        #print(i)\n",
    "        #print(inf.text)\n",
    "        try:\n",
    "            info, ivalue= (inf.text).splitlines()\n",
    "            player_dict[info] = ivalue\n",
    "        except ValueError:\n",
    "            print(\"There's not text value for attribute \",inf.text)\n",
    "    par =  driver.find_elements_by_xpath('/html/body/main/div/div/div[2]/div[4]/div/div/div/p')\n",
    "    #get all attributes\n",
    "    i=1\n",
    "    for pa in par:\n",
    "        if i < 35: # break after we get all numerical attributes\n",
    "            #print(i)\n",
    "            #print(pa.text)\n",
    "            try:\n",
    "                att, avalue= (pa.text).splitlines()\n",
    "                #TODO solve extra columns split string and remove integers\n",
    "                # maybe\n",
    "                player_dict[(re.sub(r'\\d+', '',att)).strip()] = avalue\n",
    "            except ValueError:\n",
    "                print(\"There's no readable value for attribute \",pa.text)\n",
    "        i+=1\n",
    "    print(player_dict)\n",
    "    ## TODO:  add method to grab all features and careful with numerical and non numerical\n",
    "    #for pa in par:\n",
    "    #    print(pa.text)\n",
    "    #    attribute_name, attribute_value =\n",
    "\n",
    "    # store in dict then append to dataframe\n",
    "    #player_dict[attribute_name] = attribute_value\n",
    "    #player_dict[\"name\"] =str(name)\n",
    "    driver.back()\n",
    "    return player_dict"
   ]
  },
  {
   "cell_type": "code",
   "execution_count": 7,
   "metadata": {},
   "outputs": [],
   "source": [
    "def close_driver():\n",
    "    driver.close()"
   ]
  },
  {
   "cell_type": "code",
   "execution_count": 9,
   "metadata": {},
   "outputs": [],
   "source": [
    "fifaindex = \"https://www.fifaindex.com/players/\""
   ]
  },
  {
   "cell_type": "code",
   "execution_count": null,
   "metadata": {},
   "outputs": [],
   "source": [
    "page_driver = get_driver(fifaindex)\n",
    "players = get_players_in_page(page_driver)\n",
    "players.head()\n",
    "players.to_csv('Fifa_22_players_ratings_1.csv')\n",
    "close_driver()\n",
    "#chrome Driver is the PATH to our folder containing the driver"
   ]
  }
 ],
 "metadata": {
  "kernelspec": {
   "display_name": "Python 3",
   "language": "python",
   "name": "python3"
  },
  "language_info": {
   "codemirror_mode": {
    "name": "ipython",
    "version": 3
   },
   "file_extension": ".py",
   "mimetype": "text/x-python",
   "name": "python",
   "nbconvert_exporter": "python",
   "pygments_lexer": "ipython3",
   "version": "3.8.8"
  }
 },
 "nbformat": 4,
 "nbformat_minor": 2
}
